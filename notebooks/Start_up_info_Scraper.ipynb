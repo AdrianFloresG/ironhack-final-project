{
  "cells": [
    {
      "cell_type": "code",
      "execution_count": null,
      "metadata": {
        "id": "-Nh64f744uEJ"
      },
      "outputs": [],
      "source": [
        "import requests\n",
        "from bs4 import BeautifulSoup\n",
        "import pandas as pd\n",
        "import numpy as np\n",
        "import time\n",
        "import re\n",
        "import regex"
      ]
    },
    {
      "cell_type": "code",
      "execution_count": null,
      "metadata": {
        "id": "V0l8NxYKgDSP"
      },
      "outputs": [],
      "source": [
        "!pip install regex"
      ]
    },
    {
      "cell_type": "code",
      "execution_count": null,
      "metadata": {
        "id": "r3LK-JdsUXUn"
      },
      "outputs": [],
      "source": [
        "headers= {'Accept-Encoding':'gzip, deflate',\n",
        "          'Accept-Language':'en-US,en;q=0.9',\n",
        "          'User-Agent':'Mozilla/5.0 (Windows NT 10.0; Win64; x64) AppleWebKit/537.36 (KHTML, like Gecko) Chrome/100.0.4896.88 Safari/537.36'}     \n",
        "\n",
        "url = 'https://www.website.com/startups'     "
      ]
    },
    {
      "cell_type": "code",
      "execution_count": null,
      "metadata": {
        "id": "iYpVNH854_Wt"
      },
      "outputs": [],
      "source": [
        "response = requests.get(url,headers = headers)"
      ]
    },
    {
      "cell_type": "code",
      "execution_count": null,
      "metadata": {
        "id": "OH-_-UWmUlXH"
      },
      "outputs": [],
      "source": [
        "response.status_code"
      ]
    },
    {
      "cell_type": "code",
      "execution_count": null,
      "metadata": {
        "id": "AFkAZq8WUm-s"
      },
      "outputs": [],
      "source": [
        "soup = BeautifulSoup(response.content)"
      ]
    },
    {
      "cell_type": "markdown",
      "metadata": {
        "id": "d4rtSXaNGyZ1"
      },
      "source": [
        "## 1. Get Industry list and urls"
      ]
    },
    {
      "cell_type": "markdown",
      "metadata": {
        "id": "sD_GKI-gjo6j"
      },
      "source": [
        "We get the full list of every field segment for the start ups on the web we want to scrappe."
      ]
    },
    {
      "cell_type": "code",
      "execution_count": null,
      "metadata": {
        "id": "8M380SJ-1tIi"
      },
      "outputs": [],
      "source": [
        "pd.set_option('display.max_rows',20000)"
      ]
    },
    {
      "cell_type": "code",
      "execution_count": null,
      "metadata": {
        "id": "Ujd53ezGUvnT"
      },
      "outputs": [],
      "source": [
        "box = soup.find_all('div',attrs={'class':'card-title-programmatic-seo'})"
      ]
    },
    {
      "cell_type": "code",
      "execution_count": null,
      "metadata": {
        "id": "i1-gDIPQALfj"
      },
      "outputs": [],
      "source": [
        "box[390].get_text()"
      ]
    },
    {
      "cell_type": "code",
      "execution_count": null,
      "metadata": {
        "id": "hd22Gv-3DdNj"
      },
      "outputs": [],
      "source": [
        "len(box)"
      ]
    },
    {
      "cell_type": "code",
      "execution_count": null,
      "metadata": {
        "id": "PjUXdwEXBPMi"
      },
      "outputs": [],
      "source": [
        "industry_list=[]\n",
        "\n",
        "for i in range(390,614):\n",
        "  \n",
        "  try:\n",
        "\n",
        "    name=box[i].get_text()\n",
        "    print(name)\n",
        "\n",
        "    data = {'Field':name}\n",
        "    industry_list.append(data)\n",
        "  \n",
        "  except:\n",
        "    pass"
      ]
    },
    {
      "cell_type": "code",
      "execution_count": null,
      "metadata": {
        "id": "t387247RDPmp"
      },
      "outputs": [],
      "source": [
        "industry_n=pd.DataFrame(industry_list)"
      ]
    },
    {
      "cell_type": "code",
      "execution_count": null,
      "metadata": {
        "id": "DclEEhSmEclC"
      },
      "outputs": [],
      "source": [
        "industry_n"
      ]
    },
    {
      "cell_type": "code",
      "execution_count": null,
      "metadata": {
        "id": "iDIcMaLtFuPk"
      },
      "outputs": [],
      "source": [
        "urls = soup.find_all('a',attrs={'class':'card-programmatic-seo w-inline-block'})"
      ]
    },
    {
      "cell_type": "code",
      "execution_count": null,
      "metadata": {
        "id": "yixteqB_HFgO"
      },
      "outputs": [],
      "source": [
        "len(urls)"
      ]
    },
    {
      "cell_type": "code",
      "execution_count": null,
      "metadata": {
        "id": "x0j67GL-GXn6"
      },
      "outputs": [],
      "source": [
        "urls[0].get('href')"
      ]
    },
    {
      "cell_type": "code",
      "execution_count": null,
      "metadata": {
        "id": "0G3oqd6yGmFW"
      },
      "outputs": [],
      "source": [
        "url_industry_list=[]\n",
        "\n",
        "for i in range(390,614):\n",
        "  \n",
        "  try:\n",
        "\n",
        "    link=('https://www.website.com'+urls[i].get('href'))\n",
        "\n",
        "    print(link)\n",
        "\n",
        "    url_industry_list.append(link)\n",
        "  \n",
        "  except:\n",
        "    pass"
      ]
    },
    {
      "cell_type": "markdown",
      "metadata": {
        "id": "kShHvgs1b89Z"
      },
      "source": [
        "## 2. Get General info from every Marketing Start up"
      ]
    },
    {
      "cell_type": "code",
      "execution_count": null,
      "metadata": {
        "id": "3CbZY-Gbc2yh"
      },
      "outputs": [],
      "source": [
        "link = 'https://www.website.com/startups/drones'"
      ]
    },
    {
      "cell_type": "code",
      "execution_count": null,
      "metadata": {
        "id": "-DrPd6KicDFk"
      },
      "outputs": [],
      "source": [
        "response = requests.get(link, headers=headers)\n",
        "soup = BeautifulSoup(response.content)"
      ]
    },
    {
      "cell_type": "markdown",
      "metadata": {
        "id": "eUmUtXvqj6dc"
      },
      "source": [
        "### Get company name"
      ]
    },
    {
      "cell_type": "code",
      "execution_count": null,
      "metadata": {
        "id": "m_npbLEWfN-j"
      },
      "outputs": [],
      "source": [
        "box = soup.find_all('div',attrs={'class':'_0-padding-mobile w-col w-col-8 w-col-stack'})"
      ]
    },
    {
      "cell_type": "code",
      "execution_count": null,
      "metadata": {
        "id": "UJjg5xE_c9oT"
      },
      "outputs": [],
      "source": [
        "box[0]"
      ]
    },
    {
      "cell_type": "code",
      "execution_count": null,
      "metadata": {
        "id": "CwDE4f21d2Yz"
      },
      "outputs": [],
      "source": [
        "titles = box[0].find_all('h3')"
      ]
    },
    {
      "cell_type": "code",
      "execution_count": null,
      "metadata": {
        "id": "qTG59x2ged0C"
      },
      "outputs": [],
      "source": [
        "titles"
      ]
    },
    {
      "cell_type": "code",
      "execution_count": null,
      "metadata": {
        "id": "FRVh2mhkefwC"
      },
      "outputs": [],
      "source": [
        "company_n_list = []\n",
        "\n",
        "for title in titles:\n",
        "  company_n = title.get_text().split(\" \", 1)[1]\n",
        "  data = {'Company Name':company_n}\n",
        "  company_n_list.append(data)\n",
        "  print(company_n)"
      ]
    },
    {
      "cell_type": "code",
      "execution_count": null,
      "metadata": {
        "id": "iVdB5DXadFqy"
      },
      "outputs": [],
      "source": [
        "company_n=pd.DataFrame(company_n_list)"
      ]
    },
    {
      "cell_type": "code",
      "execution_count": null,
      "metadata": {
        "id": "fXIZBhoQg_E0"
      },
      "outputs": [],
      "source": [
        "company_n['Field']='Marketing'"
      ]
    },
    {
      "cell_type": "code",
      "execution_count": null,
      "metadata": {
        "id": "4HyHMVNpg-Zt"
      },
      "outputs": [],
      "source": [
        "company_n"
      ]
    },
    {
      "cell_type": "markdown",
      "metadata": {
        "id": "68JZ7t2SkAId"
      },
      "source": [
        "### Get company Country, City, Started, Nº of employees, Funding amount, Number of funding rounds, Number of investors"
      ]
    },
    {
      "cell_type": "code",
      "execution_count": null,
      "metadata": {
        "id": "jHu8zJBajHbt"
      },
      "outputs": [],
      "source": [
        "boxes = soup.find_all('ul',attrs={'role':'list'})"
      ]
    },
    {
      "cell_type": "code",
      "execution_count": null,
      "metadata": {
        "id": "eWVMgW8pkcU9"
      },
      "outputs": [],
      "source": [
        "boxes[0]"
      ]
    },
    {
      "cell_type": "code",
      "execution_count": null,
      "metadata": {
        "id": "N8ttNjc7gDSf"
      },
      "outputs": [],
      "source": [
        "def convert_to_dollars(funding_string):\n",
        "    funding_string = str(funding_string)\n",
        "    currency_regex = r\"([A-Z]{0,2}\\p{Sc})\"\n",
        "    matches = regex.findall(currency_regex, funding_string)\n",
        "    currency_symbol = matches[0] if matches else \"\"\n",
        "    if \"SGD\" in funding_string:\n",
        "        return int(regex.sub(r'[^\\d]', '', funding_string))/1.35  # assuming 1 USD = 1.35 SGD\n",
        "    elif \"SEK\" in funding_string:\n",
        "        return int(regex.sub(r'[^\\d]', '', funding_string))/10.51  # assuming 1 USD = 10.51 SEK\n",
        "    elif \"DKK\" in funding_string:\n",
        "        return int(regex.sub(r'[^\\d]', '', funding_string))/7.06\n",
        "    elif \"PLN\" in funding_string:\n",
        "        return int(regex.sub(r'[^\\d]', '', funding_string))/4.48\n",
        "    elif \"PKR\" in funding_string:\n",
        "        return int(regex.sub(r'[^\\d]', '', funding_string))/257.79\n",
        "    elif \"RON\" in funding_string:\n",
        "        return int(regex.sub(r'[^\\d]', '', funding_string))/4.66\n",
        "    elif \"NOK\" in funding_string:\n",
        "        return int(regex.sub(r'[^\\d]', '', funding_string))/10.39\n",
        "    elif \"MIR\" in funding_string:\n",
        "        return int(regex.sub(r'[^\\d]', '', funding_string))/4.44\n",
        "    elif \"THB\" in funding_string:\n",
        "        return int(regex.sub(r'[^\\d]', '', funding_string))/34.92\n",
        "    elif \"RUB\" in funding_string:\n",
        "        return int(regex.sub(r'[^\\d]', '', funding_string))/76.02\n",
        "    elif \"AED\" in funding_string:\n",
        "        return int(regex.sub(r'[^\\d]', '', funding_string))/3.67\n",
        "    else:\n",
        "      if \"$\" in currency_symbol:\n",
        "          return int(regex.sub(r'[^\\d]', '', funding_string))\n",
        "      elif \"€\" in currency_symbol:\n",
        "          return int(regex.sub(r'[^\\d]', '', funding_string))\n",
        "      elif \"₹\" in currency_symbol: \n",
        "          return int(regex.sub(r'[^\\d]', '', funding_string))/82.93  # assuming 1 USD = 82.93 INR\n",
        "      elif \"₩\" in currency_symbol: \n",
        "          return int(regex.sub(r'[^\\d]', '', funding_string))/1314.80  # assuming 1 USD = 1314.80 ₩\n",
        "      elif \"£\" in currency_symbol: \n",
        "          return int(regex.sub(r'[^\\d]', '', funding_string))/0.84\n",
        "      elif \"¥\" in currency_symbol:\n",
        "          if \"CN¥\" in funding_string:\n",
        "              return int(regex.sub(r'[^\\d]', '', funding_string))/6.96  # assuming 1 USD = 6.96 CNY\n",
        "          else:\n",
        "              return int(regex.sub(r'[^\\d]', '', funding_string))/136.47  # assuming 1 USD = 136.47 JPY\n",
        "      else:\n",
        "          return None  # invalid currency symbol"
      ]
    },
    {
      "cell_type": "code",
      "source": [
        "funding_string = \"Funding amount: SGD863,000,000\"\n",
        "\n",
        "print(int(regex.sub(r'[^\\d]', '', funding_string))/1.35)"
      ],
      "metadata": {
        "id": "NaHwHDFEygIP"
      },
      "execution_count": null,
      "outputs": []
    },
    {
      "cell_type": "code",
      "execution_count": null,
      "metadata": {
        "id": "VpxwjhMOgDSg"
      },
      "outputs": [],
      "source": [
        "# Example usage:\n",
        "funding_string1 = \"Funding amount: ¥53,500,002,780\"\n",
        "dollars1 = convert_to_dollars(funding_string1)\n",
        "print(dollars1)  \n",
        "\n",
        "funding_string2 = \"Funding amount: CN¥500,000\"\n",
        "dollars2 = convert_to_dollars(funding_string2)\n",
        "print(dollars2)  \n",
        "\n",
        "# Example usage:\n",
        "funding_string = \"Funding amount: $863,000,000\"\n",
        "dollars = convert_to_dollars(funding_string)\n",
        "print(dollars)  \n",
        "\n",
        "# Example usage:\n",
        "funding_string = \"Funding amount: €863,000,000\"\n",
        "dollars = convert_to_dollars(funding_string)\n",
        "print(dollars)  "
      ]
    },
    {
      "cell_type": "code",
      "execution_count": null,
      "metadata": {
        "id": "i5gescomkc0N"
      },
      "outputs": [],
      "source": [
        "# We create empty lists for filling once we scrappe the web\n",
        "company_c_list = []\n",
        "company_city_list = []\n",
        "company_employee_list_min = []\n",
        "company_employee_list_max = []\n",
        "company_fund_a_list = []\n",
        "company_fund_r_list = []\n",
        "company_year_list = []\n",
        "company_inv_list = []\n",
        "\n",
        "# Boxes is the full list of company for the specific URL. So we create a loop to check every company\n",
        "for box in boxes:\n",
        "\n",
        "  # We fill every future variable with an 'empty' value, so if it does not change later on, means that the company does not have the specific value\n",
        "  company_c = ' '\n",
        "  company_city = ' '\n",
        "  year = ' '\n",
        "  employees = ' '\n",
        "  funding_amount = ' '\n",
        "  company_fund_rounds = ' '\n",
        "  investors = ' '\n",
        "\n",
        "  try:\n",
        "    print('New company')\n",
        "    \n",
        "    company_data = box.find_all('li')\n",
        "\n",
        "    # On every company we try to find every field (Country, City, etc.)\n",
        "    for data in company_data:\n",
        "      word = data.get_text()\n",
        "      if 'Country: ' in word: \n",
        "        \n",
        "        company_c = word.replace('Country: ','')\n",
        "        print(company_c)\n",
        "\n",
        "        data = {'Country':company_c}\n",
        "        company_c_list.append(data)\n",
        "\n",
        "      elif 'City: ' in word: \n",
        "        \n",
        "        company_city = word.replace('City: ','')\n",
        "        print(company_city)\n",
        "        data = {'City':company_city}\n",
        "        company_city_list.append(data)\n",
        "\n",
        "      elif 'Started in: ' in word: \n",
        "        \n",
        "        print(word)\n",
        "        year = word.replace('Started in: ','')\n",
        "        year = int(year)\n",
        "        print(year)\n",
        "        data = {'Started in':year}\n",
        "        company_year_list.append(data)\n",
        "\n",
        "      elif 'Number of employees: ' in word: \n",
        "        \n",
        "        if '-' in word:\n",
        "\n",
        "          employees = word.replace('Number of employees: ','')\n",
        "          print(employees)\n",
        "          num1, num2 = [int(num) for num in employees.split('-')]\n",
        "\n",
        "          print(num1)\n",
        "          print(num2)\n",
        "\n",
        "          data1 = {'Employee Min':num1}\n",
        "          data2 = {'Employee Max':num2}\n",
        "          \n",
        "          company_employee_list_min.append(data1)\n",
        "          company_employee_list_max.append(data2)\n",
        "        \n",
        "        elif '+' in word:\n",
        "\n",
        "          employees = word.replace('Number of employees: ','')\n",
        "          employees = employees.replace('+','')\n",
        "          print(employees)\n",
        "          num1 = int(employees)\n",
        "          data1 = {'Employee Min':num1}\n",
        "          data2 = {'Employee Max':num1}\n",
        "                  \n",
        "          company_employee_list_min.append(data1)\n",
        "          company_employee_list_max.append(data2)\n",
        "\n",
        "      elif 'Funding amount: ' in word: \n",
        "        \n",
        "        print(word)\n",
        "        funding_amount = re.findall(\"\\d+\", word)\n",
        "        funding_amount = \"\".join(map(str, funding_amount))\n",
        "        funding_amount = int(funding_amount)\n",
        "        \n",
        "        print(funding_amount)\n",
        "\n",
        "        data = {'Funding Amount':word}\n",
        "        company_fund_a_list.append(data)\n",
        "\n",
        "      elif 'Number of funding rounds: ' in word: \n",
        "        \n",
        "        company_fund_rounds = word.replace('Number of funding rounds: ','')\n",
        "        company_fund_rounds = int(company_fund_rounds)\n",
        "        print(company_fund_rounds)\n",
        "        data = {'Nº of Funding Rounds':company_fund_rounds}\n",
        "        company_fund_r_list.append(data)\n",
        "\n",
        "\n",
        "      elif 'Number of investors: ' in word: \n",
        "        \n",
        "        investors = word.replace('Number of investors: ','')\n",
        "        investors = int(investors)\n",
        "        print(investors)\n",
        "        data = {'Nº of investors':investors}\n",
        "        company_inv_list.append(data)\n",
        "                                \n",
        "    # If we do not find info from a field, we give it an 'empty' value\n",
        "    if company_c == ' ':\n",
        "\n",
        "      data = {'Country':'Empty'}\n",
        "      company_c_list.append(data)\n",
        "\n",
        "    if company_city == ' ':\n",
        "\n",
        "      data = {'Country':'Empty'}\n",
        "      company_c_list.append(data)\n",
        "\n",
        "    if year == ' ':\n",
        "\n",
        "      data = {'Started in':np.nan}\n",
        "      company_year_list.append(data)\n",
        "\n",
        "    if employees == ' ':\n",
        "      \n",
        "      data1 = {'Employee Min':np.nan}\n",
        "      data2 = {'Employee Max':np.nan}\n",
        "\n",
        "      company_employee_list_min.append(data1)\n",
        "      company_employee_list_max.append(data2)\n",
        "\n",
        "    if funding_amount == ' ':\n",
        "\n",
        "      data = {'Funding Amount':np.nan}\n",
        "      company_fund_a_list.append(data)\n",
        "\n",
        "    if company_fund_rounds == ' ':\n",
        "\n",
        "      data = {'Nº of Funding Rounds':np.nan}\n",
        "      company_fund_r_list.append(data)\n",
        "\n",
        "    if investors == ' ':\n",
        "      \n",
        "      data = {'Nº of investors':np.nan}\n",
        "      company_inv_list.append(data)\n",
        "\n",
        "\n",
        "  except:\n",
        "    pass\n"
      ]
    },
    {
      "cell_type": "code",
      "execution_count": null,
      "metadata": {
        "id": "-QK0gKdSctJO"
      },
      "outputs": [],
      "source": [
        "print(len(company_c_list))\n",
        "print(len(company_city_list))\n",
        "print(len(company_year_list))\n",
        "print(len(company_employee_list_max))\n",
        "print(len(company_fund_a_list))\n",
        "print(len(company_fund_r_list))\n",
        "print(len(company_year_list))\n",
        "print(len(company_inv_list))"
      ]
    },
    {
      "cell_type": "code",
      "execution_count": null,
      "metadata": {
        "id": "wyopgKLrbH-q"
      },
      "outputs": [],
      "source": [
        "company_n['Country']=pd.DataFrame(company_c_list)\n",
        "company_n['City']=pd.DataFrame(company_city_list)\n",
        "company_n['Started in']=pd.DataFrame(company_year_list)\n",
        "company_n['Employees Min']=pd.DataFrame(company_employee_list_min)\n",
        "company_n['Employees Max']=pd.DataFrame(company_employee_list_max)\n",
        "company_n['Funding Amount ($)']=pd.DataFrame(company_fund_a_list)\n",
        "company_n['Nº Funding Rounds']=pd.DataFrame(company_fund_r_list)\n",
        "company_n['Nº Investors']=pd.DataFrame(company_inv_list)"
      ]
    },
    {
      "cell_type": "code",
      "execution_count": null,
      "metadata": {
        "id": "xypp-_RYbWcL"
      },
      "outputs": [],
      "source": [
        "company_n"
      ]
    },
    {
      "cell_type": "code",
      "execution_count": null,
      "metadata": {
        "id": "mmHgy8XVbXdN"
      },
      "outputs": [],
      "source": [
        "company_n.dtypes"
      ]
    },
    {
      "cell_type": "code",
      "execution_count": null,
      "metadata": {
        "id": "twiO_KERkjiW"
      },
      "outputs": [],
      "source": [
        "company_n['Nº Investors'].isna().sum()"
      ]
    },
    {
      "cell_type": "markdown",
      "metadata": {
        "id": "W986VPNPvpN_"
      },
      "source": [
        "##A loop for every field"
      ]
    },
    {
      "cell_type": "code",
      "execution_count": null,
      "metadata": {
        "id": "tbAQyDotvtBM"
      },
      "outputs": [],
      "source": [
        "url_industry_list"
      ]
    },
    {
      "cell_type": "code",
      "execution_count": null,
      "metadata": {
        "id": "Is7P-RefvOpB"
      },
      "outputs": [],
      "source": [
        "# We create empty lists for filling once we scrappe the web\n",
        "company_n_list = []\n",
        "company_f_list = []\n",
        "company_c_list = []\n",
        "company_city_list = []\n",
        "company_employee_list_min = []\n",
        "company_employee_list_max = []\n",
        "company_fund_a_list = []\n",
        "company_fund_r_list = []\n",
        "company_year_list = []\n",
        "company_inv_list = []\n",
        "\n",
        "for link in url_industry_list:\n",
        "  time.sleep(2)\n",
        "\n",
        "  print(link)\n",
        "\n",
        "  time.sleep(5)  \n",
        "  try:\n",
        "    \n",
        "    response = requests.get(link, headers=headers)\n",
        "    soup = BeautifulSoup(response.content)\n",
        "    response.status_code \n",
        "    \n",
        "    box = soup.find_all('div',attrs={'class':'_0-padding-mobile w-col w-col-8 w-col-stack'})\n",
        "\n",
        "    titles = box[0].find_all('h3')\n",
        "\n",
        "    for title in titles:\n",
        "      company_n = title.get_text().split(\" \", 1)[1]\n",
        "      data = {'Company Name':company_n}\n",
        "      company_n_list.append(data)\n",
        "      print(company_n)\n",
        "\n",
        "      field = link.split('/')[-1]\n",
        "      print(field)\n",
        "      data = {'Field':field}\n",
        "      company_f_list.append(data)     \n",
        "\n",
        "    boxes = soup.find_all('ul',attrs={'role':'list'})\n",
        "\n",
        "    # Boxes is the full list of company for the specific URL. So we create a loop to check every company\n",
        "    for box in boxes:\n",
        "\n",
        "      # We fill every future variable with an 'empty' value, so if it does not change later on, means that the company does not have the specific value\n",
        "      company_c = ' '\n",
        "      company_city = ' '\n",
        "      year = ' '\n",
        "      employees = ' '\n",
        "      funding_amount = ' '\n",
        "      company_fund_rounds = ' '\n",
        "      investors = ' '\n",
        "\n",
        "      try:\n",
        "        print('New company')\n",
        "        \n",
        "        company_data = box.find_all('li')\n",
        "\n",
        "        # On every company we try to find every field (Country, City, etc.)\n",
        "        for data in company_data:\n",
        "          word = data.get_text()\n",
        "          if 'Country: ' in word: \n",
        "            \n",
        "            company_c = word.replace('Country: ','')\n",
        "            print(company_c)\n",
        "\n",
        "            data = {'Country':company_c}\n",
        "            company_c_list.append(data)\n",
        "\n",
        "          elif 'City: ' in word: \n",
        "            \n",
        "            company_city = word.replace('City: ','')\n",
        "            print(company_city)\n",
        "            data = {'City':company_city}\n",
        "            company_city_list.append(data)\n",
        "\n",
        "          elif 'Started in: ' in word: \n",
        "            \n",
        "              if '#N/A' not in word:\n",
        "                print(word)\n",
        "                year = word.replace('Started in: ','')\n",
        "                year = int(year)\n",
        "                print(year)\n",
        "                data = {'Started in':year}\n",
        "                company_year_list.append(data)\n",
        "\n",
        "          elif 'Number of employees: ' in word: \n",
        "            \n",
        "            if '-' in word:\n",
        "\n",
        "              employees = word.replace('Number of employees: ','')\n",
        "              print(employees)\n",
        "              num1, num2 = [int(num) for num in employees.split('-')]\n",
        "\n",
        "              print(num1)\n",
        "              print(num2)\n",
        "\n",
        "              data1 = {'Employee Min':num1}\n",
        "              data2 = {'Employee Max':num2}\n",
        "              \n",
        "              company_employee_list_min.append(data1)\n",
        "              company_employee_list_max.append(data2)\n",
        "            \n",
        "            elif '+' in word:\n",
        "\n",
        "              employees = word.replace('Number of employees: ','')\n",
        "              employees = employees.replace('+','')\n",
        "              print(employees)\n",
        "              num1 = int(employees)\n",
        "              data1 = {'Employee Min':num1}\n",
        "              data2 = {'Employee Max':num1}\n",
        "                      \n",
        "              company_employee_list_min.append(data1)\n",
        "              company_employee_list_max.append(data2)\n",
        "\n",
        "          elif 'Funding amount: ' in word: \n",
        "            \n",
        "            print(word)\n",
        "\n",
        "            funding_amount = re.findall(\"\\d+\", word)\n",
        "            funding_amount = \"\".join(map(str, funding_amount))\n",
        "            funding_amount = int(funding_amount)\n",
        "            \n",
        "            print(funding_amount)\n",
        "\n",
        "            data = {'Funding Amount':word}\n",
        "            company_fund_a_list.append(data)\n",
        "\n",
        "          elif 'Number of funding rounds: ' in word: \n",
        "            \n",
        "            company_fund_rounds = word.replace('Number of funding rounds: ','')\n",
        "            company_fund_rounds = int(company_fund_rounds)\n",
        "            print(company_fund_rounds)\n",
        "            data = {'Nº of Funding Rounds':company_fund_rounds}\n",
        "            company_fund_r_list.append(data)\n",
        "\n",
        "\n",
        "          elif 'Number of investors: ' in word: \n",
        "            \n",
        "            investors = word.replace('Number of investors: ','')\n",
        "            investors = int(investors)\n",
        "            print(investors)\n",
        "            data = {'Nº of investors':investors}\n",
        "            company_inv_list.append(data)\n",
        "                                    \n",
        "        # If we do not find info from a field, we give it an 'empty' value\n",
        "        if company_c == ' ':\n",
        "\n",
        "          data = {'Country':'Empty'}\n",
        "          company_c_list.append(data)\n",
        "\n",
        "        if company_city == ' ':\n",
        "\n",
        "          data = {'Country':'Empty'}\n",
        "          company_c_list.append(data)\n",
        "\n",
        "        if year == ' ':\n",
        "\n",
        "          data = {'Started in':np.nan}\n",
        "          company_year_list.append(data)\n",
        "\n",
        "        if employees == ' ':\n",
        "          \n",
        "          data1 = {'Employee Min':np.nan}\n",
        "          data2 = {'Employee Max':np.nan}\n",
        "\n",
        "          company_employee_list_min.append(data1)\n",
        "          company_employee_list_max.append(data2)\n",
        "\n",
        "        if funding_amount == ' ':\n",
        "\n",
        "          data = {'Funding Amount':np.nan}\n",
        "          company_fund_a_list.append(data)\n",
        "\n",
        "        if company_fund_rounds == ' ':\n",
        "\n",
        "          data = {'Nº of Funding Rounds':np.nan}\n",
        "          company_fund_r_list.append(data)\n",
        "\n",
        "        if investors == ' ':\n",
        "          \n",
        "          data = {'Nº of investors':np.nan}\n",
        "          company_inv_list.append(data)\n",
        "\n",
        "\n",
        "      except:\n",
        "        pass\n",
        "\n",
        "\n",
        "  except:\n",
        "    pass"
      ]
    },
    {
      "cell_type": "code",
      "execution_count": null,
      "metadata": {
        "id": "_Wx7DPq73m2G"
      },
      "outputs": [],
      "source": [
        "print(len(company_n_list))\n",
        "print(len(company_f_list))\n",
        "print(len(company_c_list))\n",
        "print(len(company_city_list))\n",
        "print(len(company_year_list))\n",
        "print(len(company_employee_list_max))\n",
        "print(len(company_fund_a_list))\n",
        "print(len(company_fund_r_list))\n",
        "print(len(company_year_list))\n",
        "print(len(company_inv_list))"
      ]
    },
    {
      "cell_type": "code",
      "execution_count": null,
      "metadata": {
        "id": "pFMIEjmyxF74"
      },
      "outputs": [],
      "source": [
        "company_table = pd.DataFrame()\n",
        "\n",
        "company_table['Company Name']=pd.DataFrame(company_n_list)\n",
        "company_table['Field']=pd.DataFrame(company_f_list)\n",
        "company_table['Country']=pd.DataFrame(company_c_list)\n",
        "company_table['City']=pd.DataFrame(company_city_list)\n",
        "company_table['Started in']=pd.DataFrame(company_year_list)\n",
        "company_table['Employees Min']=pd.DataFrame(company_employee_list_min)\n",
        "company_table['Employees Max']=pd.DataFrame(company_employee_list_max)\n",
        "company_table['Funding Amount ($)']=pd.DataFrame(company_fund_a_list)\n",
        "company_table['Nº Funding Rounds']=pd.DataFrame(company_fund_r_list)\n",
        "company_table['Nº Investors']=pd.DataFrame(company_inv_list)"
      ]
    },
    {
      "cell_type": "code",
      "execution_count": null,
      "metadata": {
        "id": "hr9IluyU3m2T"
      },
      "outputs": [],
      "source": [
        "company_table"
      ]
    },
    {
      "cell_type": "code",
      "source": [
        "company_table[\"Funding Amount Number ($)\"] = company_table[\"Funding Amount ($)\"].apply(convert_to_dollars)"
      ],
      "metadata": {
        "id": "aL81jVRbuiml"
      },
      "execution_count": null,
      "outputs": []
    },
    {
      "cell_type": "code",
      "source": [
        "company_table.to_excel('start_up_overallv1.xlsx',index=False)"
      ],
      "metadata": {
        "id": "JxZtOg-fo_vX"
      },
      "execution_count": null,
      "outputs": []
    },
    {
      "cell_type": "code",
      "execution_count": null,
      "metadata": {
        "id": "5_JUd_wsNN8d"
      },
      "outputs": [],
      "source": [
        "company_table.to_csv('output.csv',index=False)"
      ]
    },
    {
      "cell_type": "code",
      "execution_count": null,
      "metadata": {
        "id": "VGbVgNHjVQgO"
      },
      "outputs": [],
      "source": [
        "company_table.dtypes"
      ]
    },
    {
      "cell_type": "code",
      "execution_count": null,
      "metadata": {
        "id": "17fgmbWdVnhM"
      },
      "outputs": [],
      "source": []
    }
  ],
  "metadata": {
    "colab": {
      "provenance": []
    },
    "kernelspec": {
      "display_name": "Python 3 (ipykernel)",
      "language": "python",
      "name": "python3"
    },
    "language_info": {
      "codemirror_mode": {
        "name": "ipython",
        "version": 3
      },
      "file_extension": ".py",
      "mimetype": "text/x-python",
      "name": "python",
      "nbconvert_exporter": "python",
      "pygments_lexer": "ipython3",
      "version": "3.10.8"
    }
  },
  "nbformat": 4,
  "nbformat_minor": 0
}