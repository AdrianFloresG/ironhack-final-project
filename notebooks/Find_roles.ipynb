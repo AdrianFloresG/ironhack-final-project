{
 "cells": [
  {
   "cell_type": "code",
   "execution_count": 1,
   "id": "366c8d93",
   "metadata": {},
   "outputs": [],
   "source": [
    "import pandas as pd\n",
    "import random"
   ]
  },
  {
   "cell_type": "code",
   "execution_count": 11,
   "id": "1bf08e47",
   "metadata": {},
   "outputs": [
    {
     "name": "stdout",
     "output_type": "stream",
     "text": [
      "Collecting openpyxl\n",
      "  Downloading openpyxl-3.1.1-py2.py3-none-any.whl (249 kB)\n",
      "     -------------------------------------- 249.8/249.8 kB 3.0 MB/s eta 0:00:00\n",
      "Collecting et-xmlfile\n",
      "  Downloading et_xmlfile-1.1.0-py3-none-any.whl (4.7 kB)\n",
      "Installing collected packages: et-xmlfile, openpyxl\n",
      "Successfully installed et-xmlfile-1.1.0 openpyxl-3.1.1\n"
     ]
    },
    {
     "name": "stderr",
     "output_type": "stream",
     "text": [
      "\n",
      "[notice] A new release of pip available: 22.3.1 -> 23.0.1\n",
      "[notice] To update, run: python.exe -m pip install --upgrade pip\n"
     ]
    }
   ],
   "source": [
    "!pip install openpyxl"
   ]
  },
  {
   "cell_type": "code",
   "execution_count": 2,
   "id": "39860e11",
   "metadata": {},
   "outputs": [],
   "source": [
    "path = r'D:\\0000 Ironhack\\0000 Classes\\week22 (Final Project)\\Final Proyect\\employee_data\\Marketing\\excel_version\\employee_marketing1.xlsx'\n",
    "employee_marketing1 = pd.read_excel(path)"
   ]
  },
  {
   "cell_type": "code",
   "execution_count": 3,
   "id": "1e70b78e",
   "metadata": {},
   "outputs": [],
   "source": [
    "path = r'D:\\0000 Ironhack\\0000 Classes\\week22 (Final Project)\\Final Proyect\\employee_data\\Marketing\\excel_version\\employee_marketing2.xlsx'\n",
    "employee_marketing2 = pd.read_excel(path)"
   ]
  },
  {
   "cell_type": "code",
   "execution_count": 4,
   "id": "1c1b2155",
   "metadata": {},
   "outputs": [],
   "source": [
    "path = r'D:\\0000 Ironhack\\0000 Classes\\week22 (Final Project)\\Final Proyect\\employee_data\\Marketing\\excel_version\\employee_marketing3.xlsx'\n",
    "employee_marketing3 = pd.read_excel(path)"
   ]
  },
  {
   "cell_type": "code",
   "execution_count": 5,
   "id": "96def71b",
   "metadata": {},
   "outputs": [],
   "source": [
    "path = r'D:\\0000 Ironhack\\0000 Classes\\week22 (Final Project)\\Final Proyect\\employee_data\\Marketing\\excel_version\\employee_marketing4.xlsx'\n",
    "employee_marketing4 = pd.read_excel(path)"
   ]
  },
  {
   "cell_type": "code",
   "execution_count": 6,
   "id": "8eb4e2d7",
   "metadata": {},
   "outputs": [],
   "source": [
    "path = r'D:\\0000 Ironhack\\0000 Classes\\week22 (Final Project)\\Final Proyect\\employee_data\\Marketing\\excel_version\\employee_marketing5.xlsx'\n",
    "employee_marketing5 = pd.read_excel(path)"
   ]
  },
  {
   "cell_type": "code",
   "execution_count": 7,
   "id": "5d0aa543",
   "metadata": {},
   "outputs": [],
   "source": [
    "path = r'D:\\0000 Ironhack\\0000 Classes\\week22 (Final Project)\\Final Proyect\\employee_data\\Marketing\\excel_version\\employee_marketing6.xlsx'\n",
    "employee_marketing6 = pd.read_excel(path)"
   ]
  },
  {
   "cell_type": "code",
   "execution_count": 8,
   "id": "94aa1550",
   "metadata": {},
   "outputs": [],
   "source": [
    "path = r'D:\\0000 Ironhack\\0000 Classes\\week22 (Final Project)\\Final Proyect\\employee_data\\Marketing\\excel_version\\employee_marketing7.xlsx'\n",
    "employee_marketing7 = pd.read_excel(path)"
   ]
  },
  {
   "cell_type": "code",
   "execution_count": 9,
   "id": "9bb6e4c9",
   "metadata": {},
   "outputs": [],
   "source": [
    "path = r'D:\\0000 Ironhack\\0000 Classes\\week22 (Final Project)\\Final Proyect\\employee_data\\Marketing\\excel_version\\employee_marketing8.xlsx'\n",
    "employee_marketing8 = pd.read_excel(path)"
   ]
  },
  {
   "cell_type": "code",
   "execution_count": 10,
   "id": "9bd77ed1",
   "metadata": {},
   "outputs": [],
   "source": [
    "path = r'D:\\0000 Ironhack\\0000 Classes\\week22 (Final Project)\\Final Proyect\\employee_data\\Marketing\\excel_version\\employee_marketing9.xlsx'\n",
    "employee_marketing9 = pd.read_excel(path)"
   ]
  },
  {
   "cell_type": "code",
   "execution_count": 11,
   "id": "6cac2d3c",
   "metadata": {},
   "outputs": [],
   "source": [
    "path = r'D:\\0000 Ironhack\\0000 Classes\\week22 (Final Project)\\Final Proyect\\employee_data\\Marketing\\excel_version\\employee_marketing10.xlsx'\n",
    "employee_marketing10 = pd.read_excel(path)"
   ]
  },
  {
   "cell_type": "code",
   "execution_count": 12,
   "id": "dc5b9993",
   "metadata": {},
   "outputs": [],
   "source": [
    "path = r'D:\\0000 Ironhack\\0000 Classes\\week22 (Final Project)\\Final Proyect\\employee_data\\Marketing\\excel_version\\employee_marketing11.xlsx'\n",
    "employee_marketing11 = pd.read_excel(path)"
   ]
  },
  {
   "cell_type": "code",
   "execution_count": 13,
   "id": "3bbe1215",
   "metadata": {},
   "outputs": [],
   "source": [
    "path = r'D:\\0000 Ironhack\\0000 Classes\\week22 (Final Project)\\Final Proyect\\employee_data\\Marketing\\excel_version\\employee_marketing12.xlsx'\n",
    "employee_marketing12 = pd.read_excel(path)"
   ]
  },
  {
   "cell_type": "code",
   "execution_count": 14,
   "id": "7548a45f",
   "metadata": {},
   "outputs": [],
   "source": [
    "path = r'D:\\0000 Ironhack\\0000 Classes\\week22 (Final Project)\\Final Proyect\\employee_data\\Marketing\\excel_version\\employee_marketing13.xlsx'\n",
    "employee_marketing13 = pd.read_excel(path)"
   ]
  },
  {
   "cell_type": "code",
   "execution_count": 15,
   "id": "dd59b703",
   "metadata": {},
   "outputs": [],
   "source": [
    "path = r'D:\\0000 Ironhack\\0000 Classes\\week22 (Final Project)\\Final Proyect\\employee_data\\Life Style\\excel_version\\employee_lifestyle1.xlsx'\n",
    "employee_lifestyle1 = pd.read_excel(path)"
   ]
  },
  {
   "cell_type": "code",
   "execution_count": 16,
   "id": "db7959c8",
   "metadata": {},
   "outputs": [],
   "source": [
    "path = r'D:\\0000 Ironhack\\0000 Classes\\week22 (Final Project)\\Final Proyect\\employee_data\\Clean Energy\\excel_version\\employee_clean_energy1.xlsx'\n",
    "employee_clean_energy1 = pd.read_excel(path)"
   ]
  },
  {
   "cell_type": "code",
   "execution_count": 17,
   "id": "927a8d66",
   "metadata": {},
   "outputs": [],
   "source": [
    "path = r'D:\\0000 Ironhack\\0000 Classes\\week22 (Final Project)\\Final Proyect\\employee_data\\Clean Energy\\excel_version\\employee_clean_energy2.xlsx'\n",
    "employee_clean_energy2 = pd.read_excel(path)"
   ]
  },
  {
   "cell_type": "code",
   "execution_count": 18,
   "id": "05f95079",
   "metadata": {},
   "outputs": [],
   "source": [
    "employee_table = pd.concat([employee_marketing1,employee_marketing2,employee_marketing3,employee_marketing4,employee_marketing5,employee_marketing6,employee_marketing7,employee_marketing8,employee_marketing9,employee_marketing10,employee_marketing11,employee_marketing12,employee_marketing13,employee_lifestyle1,employee_clean_energy1,employee_clean_energy2], axis=0, ignore_index=True)"
   ]
  },
  {
   "cell_type": "code",
   "execution_count": 19,
   "id": "09364e29",
   "metadata": {},
   "outputs": [],
   "source": [
    "employee_table['Titles'] = employee_table['Titles'].astype(str)"
   ]
  },
  {
   "cell_type": "code",
   "execution_count": 20,
   "id": "9a8611ad",
   "metadata": {},
   "outputs": [],
   "source": [
    "employee_table.drop(employee_table[employee_table['Company'] == 'uberall'].index, inplace=True)"
   ]
  },
  {
   "cell_type": "code",
   "execution_count": 21,
   "id": "c071235d",
   "metadata": {},
   "outputs": [
    {
     "data": {
      "text/html": [
       "<div>\n",
       "<style scoped>\n",
       "    .dataframe tbody tr th:only-of-type {\n",
       "        vertical-align: middle;\n",
       "    }\n",
       "\n",
       "    .dataframe tbody tr th {\n",
       "        vertical-align: top;\n",
       "    }\n",
       "\n",
       "    .dataframe thead th {\n",
       "        text-align: right;\n",
       "    }\n",
       "</style>\n",
       "<table border=\"1\" class=\"dataframe\">\n",
       "  <thead>\n",
       "    <tr style=\"text-align: right;\">\n",
       "      <th></th>\n",
       "      <th>Titles</th>\n",
       "      <th>Company</th>\n",
       "      <th>Field</th>\n",
       "    </tr>\n",
       "  </thead>\n",
       "  <tbody>\n",
       "    <tr>\n",
       "      <th>0</th>\n",
       "      <td>Software Engineer at Attentive</td>\n",
       "      <td>Attentive</td>\n",
       "      <td>Marketing</td>\n",
       "    </tr>\n",
       "    <tr>\n",
       "      <th>1</th>\n",
       "      <td>Operations Analyst</td>\n",
       "      <td>Attentive</td>\n",
       "      <td>Marketing</td>\n",
       "    </tr>\n",
       "    <tr>\n",
       "      <th>2</th>\n",
       "      <td>Senior Software Engineer II at Attentive</td>\n",
       "      <td>Attentive</td>\n",
       "      <td>Marketing</td>\n",
       "    </tr>\n",
       "    <tr>\n",
       "      <th>3</th>\n",
       "      <td>Partner at Sequoia Capital</td>\n",
       "      <td>Attentive</td>\n",
       "      <td>Marketing</td>\n",
       "    </tr>\n",
       "    <tr>\n",
       "      <th>4</th>\n",
       "      <td>Software Engineer</td>\n",
       "      <td>Attentive</td>\n",
       "      <td>Marketing</td>\n",
       "    </tr>\n",
       "    <tr>\n",
       "      <th>...</th>\n",
       "      <td>...</td>\n",
       "      <td>...</td>\n",
       "      <td>...</td>\n",
       "    </tr>\n",
       "    <tr>\n",
       "      <th>8219</th>\n",
       "      <td>Adaptability in almost any environment</td>\n",
       "      <td>BlocPower</td>\n",
       "      <td>clean-energy</td>\n",
       "    </tr>\n",
       "    <tr>\n",
       "      <th>8220</th>\n",
       "      <td>People-Centered Storyteller | Creative Curator...</td>\n",
       "      <td>BlocPower</td>\n",
       "      <td>clean-energy</td>\n",
       "    </tr>\n",
       "    <tr>\n",
       "      <th>8221</th>\n",
       "      <td>nan</td>\n",
       "      <td>BlocPower</td>\n",
       "      <td>clean-energy</td>\n",
       "    </tr>\n",
       "    <tr>\n",
       "      <th>8222</th>\n",
       "      <td>Computer Science Student at University of Wate...</td>\n",
       "      <td>BlocPower</td>\n",
       "      <td>clean-energy</td>\n",
       "    </tr>\n",
       "    <tr>\n",
       "      <th>8223</th>\n",
       "      <td>Web Author @AmericanPigeon // Clean Energy Ope...</td>\n",
       "      <td>BlocPower</td>\n",
       "      <td>clean-energy</td>\n",
       "    </tr>\n",
       "  </tbody>\n",
       "</table>\n",
       "<p>7705 rows × 3 columns</p>\n",
       "</div>"
      ],
      "text/plain": [
       "                                                 Titles    Company  \\\n",
       "0                        Software Engineer at Attentive  Attentive   \n",
       "1                                    Operations Analyst  Attentive   \n",
       "2              Senior Software Engineer II at Attentive  Attentive   \n",
       "3                            Partner at Sequoia Capital  Attentive   \n",
       "4                                     Software Engineer  Attentive   \n",
       "...                                                 ...        ...   \n",
       "8219             Adaptability in almost any environment  BlocPower   \n",
       "8220  People-Centered Storyteller | Creative Curator...  BlocPower   \n",
       "8221                                                nan  BlocPower   \n",
       "8222  Computer Science Student at University of Wate...  BlocPower   \n",
       "8223  Web Author @AmericanPigeon // Clean Energy Ope...  BlocPower   \n",
       "\n",
       "             Field  \n",
       "0        Marketing  \n",
       "1        Marketing  \n",
       "2        Marketing  \n",
       "3        Marketing  \n",
       "4        Marketing  \n",
       "...            ...  \n",
       "8219  clean-energy  \n",
       "8220  clean-energy  \n",
       "8221  clean-energy  \n",
       "8222  clean-energy  \n",
       "8223  clean-energy  \n",
       "\n",
       "[7705 rows x 3 columns]"
      ]
     },
     "execution_count": 21,
     "metadata": {},
     "output_type": "execute_result"
    }
   ],
   "source": [
    "employee_table"
   ]
  },
  {
   "cell_type": "code",
   "execution_count": 22,
   "id": "521c615c",
   "metadata": {},
   "outputs": [
    {
     "data": {
      "text/plain": [
       "Titles     object\n",
       "Company    object\n",
       "Field      object\n",
       "dtype: object"
      ]
     },
     "execution_count": 22,
     "metadata": {},
     "output_type": "execute_result"
    }
   ],
   "source": [
    "employee_table.dtypes"
   ]
  },
  {
   "cell_type": "code",
   "execution_count": 23,
   "id": "fa2756ab",
   "metadata": {},
   "outputs": [],
   "source": [
    "# define lists of words related to different departments\n",
    "it_words = ['firmware','head it','user ','apps','ci ','it ','it-','utvecklare','full stack','front end','python','java','computer','device','tech ','sde ','test','qa ','ux ','ui ','information','system','architect','code','implementation','technical','saas','software', 'developer', 'engineer', 'programmer', 'analyst', 'engineering', 'staff engineer', 'it ']\n",
    "\n",
    "data_words = ['business intelligence','bi ', 'da ', 'data', 'data analyst', 'data engineer', 'data science', 'data scientist', 'data architecture', 'warehousing', 'mining', 'modeling', 'visualization', 'data governance', 'data management', 'database administrator', 'database', 'business intelligence', 'etl ']\n",
    "\n",
    "hr_words = ['hr-','empower','job','relationship','grow','human','hiring','rewards','workplace','empathy','relocation','travel','recruit','hr ','people','recruiter', 'talent', 'acquisition', 'human resources', 'compensation', 'benefits', 'training', 'development', 'performance', 'management', 'employee', 'diversity', 'inclusion', 'employee', 'engagement', 'workforce', 'planning', 'employment', 'law', 'compliance', 'culture', 'onboarding', 'offboarding', 'retention', 'succession', 'planning', 'hr analytics', 'hr technology']\n",
    "\n",
    "finance_words = ['contabil','administra','paym','financ','controller','cash','buy','purchas','revenue','growth','equity','tax ','billing','pricing','accountant','finance', 'accounting', 'payroll', 'international payroll', 'global controller', 'director of finance']\n",
    "\n",
    "entrepreneur_words = ['owner','invest','board','venture','president','capital','investor','counsel','founder', 'entrepreneur', 'partner', 'co-founder', 'general partner']\n",
    "\n",
    "chief_words = ['coo ','head of','principal','vp ','cto','cio','cao','csm','cfo','cmo','cro','cpo','ceo']\n",
    "\n",
    "marketing_words = ['outbound','journal','web','editor','sms','artist','writer','photo','communicat','merchan','idea','search','business','brand','marketer','commerce','email','community','consumers','companies','creative','e-commerce','design','strategic','analytics','merchandise','product','marketing', 'advertising', 'promotion', 'strategy', 'international marketing', 'partnerships leader', 'branding', 'digital marketing', 'public relations', 'pr ', 'communications', 'market research', 'content', 'social media', 'event','insights']\n",
    "\n",
    "sales_words =['building ','vendor','trade','opportunities','opportunity','sdr','commercial','sales', 'account','sales development']\n",
    "\n",
    "operations_words = ['meng','retail','automat','chemeng','bim','planner','construction','qualit','solution','logis','ingen','proje','facilit','engineer','mechanic','metal','operat','material','program','scient','batter','manufact','chemi','deliver','cajera','biker','warehouse','city mall at','maintain','project','security','operation','sustain','environ','health','safety','shift','maintenan','technician','quality','process','gpm','fire ','em ','sustainable','program manager','project manager','pmo','operations', 'logistics', 'operations analyst', 'operations manager', 'chief of staff', 'supply chain', 'procurement', 'fulfillment', 'inventory', 'production']\n",
    "\n",
    "legal_words = ['legal', 'lawyer', 'attorney', 'chief legal officer', 'general manager global luxury']\n",
    "\n",
    "customer_service_words = ['service','cs ','customer','client','customer service', 'support', 'client services', 'agent', 'solutions associate', 'client support']\n",
    "\n",
    "executive_words = ['executive']\n",
    "\n",
    "assistant_words = ['assistan','associate','secretary','office','reception']\n",
    "\n",
    "team_lead_words = ['team lead','teams','supervisor','city head', 'sr. ','senior manager']\n",
    "\n",
    "internship_words = ['internship','student','intern','graduate','universit','trainee','school','learning']\n",
    "\n",
    "consultant_words = ['consultant']\n",
    "\n",
    "just_manager = ['manager']\n",
    "\n",
    "\n",
    "# create the function to check for the words and create a new column\n",
    "def assign_department(dataframe):\n",
    "    departments = []\n",
    "    description = dataframe['Titles'].lower()\n",
    "    for word_list, department in zip([it_words, data_words, hr_words, finance_words, entrepreneur_words, chief_words, marketing_words, sales_words, operations_words, legal_words, customer_service_words,executive_words,assistant_words,team_lead_words,internship_words,consultant_words],\n",
    "                                     ['IT', 'Data', 'HR', 'Finance', 'Entrepreneur', 'Chief Team', 'Marketing', 'Sales', 'Operations', 'Legal', 'Customer Service','Executive','Assistant','Team Lead','Internship','Consultant']):\n",
    "        if any(word in description for word in word_list):\n",
    "            departments.append(department)\n",
    "    if len(departments) == 0:\n",
    "        if any(word in description for word in just_manager):\n",
    "            return 'Just Manager'\n",
    "        else:\n",
    "            return 'Other'\n",
    "    else:\n",
    "        return random.choice(departments)\n",
    "\n"
   ]
  },
  {
   "cell_type": "code",
   "execution_count": 24,
   "id": "ea290a6f",
   "metadata": {},
   "outputs": [],
   "source": [
    "# apply the function to each row in the dataframe and create the new column 'Department'\n",
    "employee_table['Department'] = employee_table.apply(assign_department, axis=1)"
   ]
  },
  {
   "cell_type": "code",
   "execution_count": 25,
   "id": "ab326f62",
   "metadata": {},
   "outputs": [
    {
     "data": {
      "text/html": [
       "<div>\n",
       "<style scoped>\n",
       "    .dataframe tbody tr th:only-of-type {\n",
       "        vertical-align: middle;\n",
       "    }\n",
       "\n",
       "    .dataframe tbody tr th {\n",
       "        vertical-align: top;\n",
       "    }\n",
       "\n",
       "    .dataframe thead th {\n",
       "        text-align: right;\n",
       "    }\n",
       "</style>\n",
       "<table border=\"1\" class=\"dataframe\">\n",
       "  <thead>\n",
       "    <tr style=\"text-align: right;\">\n",
       "      <th></th>\n",
       "      <th>Titles</th>\n",
       "      <th>Company</th>\n",
       "      <th>Field</th>\n",
       "      <th>Department</th>\n",
       "    </tr>\n",
       "  </thead>\n",
       "  <tbody>\n",
       "    <tr>\n",
       "      <th>307</th>\n",
       "      <td>--</td>\n",
       "      <td>Attentive</td>\n",
       "      <td>Marketing</td>\n",
       "      <td>Other</td>\n",
       "    </tr>\n",
       "    <tr>\n",
       "      <th>335</th>\n",
       "      <td>Attentive</td>\n",
       "      <td>Attentive</td>\n",
       "      <td>Marketing</td>\n",
       "      <td>Other</td>\n",
       "    </tr>\n",
       "    <tr>\n",
       "      <th>426</th>\n",
       "      <td>_</td>\n",
       "      <td>Attentive</td>\n",
       "      <td>Marketing</td>\n",
       "      <td>Other</td>\n",
       "    </tr>\n",
       "    <tr>\n",
       "      <th>503</th>\n",
       "      <td>Doordash at Attentive</td>\n",
       "      <td>Attentive</td>\n",
       "      <td>Marketing</td>\n",
       "      <td>Other</td>\n",
       "    </tr>\n",
       "    <tr>\n",
       "      <th>517</th>\n",
       "      <td>--</td>\n",
       "      <td>Attentive</td>\n",
       "      <td>Marketing</td>\n",
       "      <td>Other</td>\n",
       "    </tr>\n",
       "    <tr>\n",
       "      <th>...</th>\n",
       "      <td>...</td>\n",
       "      <td>...</td>\n",
       "      <td>...</td>\n",
       "      <td>...</td>\n",
       "    </tr>\n",
       "    <tr>\n",
       "      <th>8203</th>\n",
       "      <td>--</td>\n",
       "      <td>BlocPower</td>\n",
       "      <td>clean-energy</td>\n",
       "      <td>Other</td>\n",
       "    </tr>\n",
       "    <tr>\n",
       "      <th>8204</th>\n",
       "      <td>Live</td>\n",
       "      <td>BlocPower</td>\n",
       "      <td>clean-energy</td>\n",
       "      <td>Other</td>\n",
       "    </tr>\n",
       "    <tr>\n",
       "      <th>8213</th>\n",
       "      <td>--</td>\n",
       "      <td>BlocPower</td>\n",
       "      <td>clean-energy</td>\n",
       "      <td>Other</td>\n",
       "    </tr>\n",
       "    <tr>\n",
       "      <th>8215</th>\n",
       "      <td>--</td>\n",
       "      <td>BlocPower</td>\n",
       "      <td>clean-energy</td>\n",
       "      <td>Other</td>\n",
       "    </tr>\n",
       "    <tr>\n",
       "      <th>8221</th>\n",
       "      <td>nan</td>\n",
       "      <td>BlocPower</td>\n",
       "      <td>clean-energy</td>\n",
       "      <td>Other</td>\n",
       "    </tr>\n",
       "  </tbody>\n",
       "</table>\n",
       "<p>486 rows × 4 columns</p>\n",
       "</div>"
      ],
      "text/plain": [
       "                     Titles    Company         Field Department\n",
       "307                      --  Attentive     Marketing      Other\n",
       "335               Attentive  Attentive     Marketing      Other\n",
       "426                       _  Attentive     Marketing      Other\n",
       "503   Doordash at Attentive  Attentive     Marketing      Other\n",
       "517                      --  Attentive     Marketing      Other\n",
       "...                     ...        ...           ...        ...\n",
       "8203                     --  BlocPower  clean-energy      Other\n",
       "8204                   Live  BlocPower  clean-energy      Other\n",
       "8213                     --  BlocPower  clean-energy      Other\n",
       "8215                     --  BlocPower  clean-energy      Other\n",
       "8221                    nan  BlocPower  clean-energy      Other\n",
       "\n",
       "[486 rows x 4 columns]"
      ]
     },
     "execution_count": 25,
     "metadata": {},
     "output_type": "execute_result"
    }
   ],
   "source": [
    "# print the updated dataframe\n",
    "employee_table[employee_table['Department']=='Other']"
   ]
  },
  {
   "cell_type": "code",
   "execution_count": 26,
   "id": "b07c9ba0",
   "metadata": {},
   "outputs": [
    {
     "data": {
      "text/plain": [
       "IT                  1263\n",
       "Operations          1248\n",
       "Marketing           1166\n",
       "HR                   670\n",
       "Other                486\n",
       "Chief Team           431\n",
       "Sales                424\n",
       "Customer Service     355\n",
       "Entrepreneur         350\n",
       "Finance              238\n",
       "Data                 234\n",
       "Executive            212\n",
       "Assistant            182\n",
       "Team Lead            178\n",
       "Internship           156\n",
       "Just Manager          69\n",
       "Consultant            23\n",
       "Legal                 20\n",
       "Name: Department, dtype: int64"
      ]
     },
     "execution_count": 26,
     "metadata": {},
     "output_type": "execute_result"
    }
   ],
   "source": [
    "employee_table['Department'].value_counts()"
   ]
  },
  {
   "cell_type": "code",
   "execution_count": 29,
   "id": "3a68976e",
   "metadata": {},
   "outputs": [
    {
     "data": {
      "image/png": "[encoded data removed]",
      "text/plain": [
       "<Figure size 1200x600 with 1 Axes>"
      ]
     },
     "metadata": {},
     "output_type": "display_data"
    }
   ],
   "source": [
    "import matplotlib.pyplot as plt\n",
    "\n",
    "# Create a bar graph of the 'Department' value counts\n",
    "department_counts = employee_table['Department'].value_counts()\n",
    "plt.bar(department_counts.index, department_counts.values)\n",
    "\n",
    "# Set the chart title and axes labels\n",
    "plt.title('Employee Department Distribution')\n",
    "plt.xlabel('Department')\n",
    "plt.ylabel('Number of Employees')\n",
    "\n",
    "# Enlarge the graph on the x-axis and rotate the x-axis labels\n",
    "plt.gcf().set_size_inches(12, 6)  # Set the figure size\n",
    "plt.xticks(rotation=45)          # Rotate the x-axis labels\n",
    "\n",
    "# Display the chart\n",
    "plt.show()"
   ]
  },
  {
   "cell_type": "code",
   "execution_count": 72,
   "id": "05c2eccd",
   "metadata": {},
   "outputs": [],
   "source": [
    "employee_table.to_csv('employee_roles.csv',index=False)"
   ]
  },
  {
   "cell_type": "code",
   "execution_count": 28,
   "id": "14788dcd",
   "metadata": {},
   "outputs": [],
   "source": [
    "employee_table.to_excel('employee_roles.xlsx',index=False)"
   ]
  },
  {
   "cell_type": "code",
   "execution_count": 22,
   "id": "fd617858",
   "metadata": {},
   "outputs": [],
   "source": [
    "pd.set_option('display.max_rows', None)"
   ]
  },
  {
   "cell_type": "code",
   "execution_count": null,
   "id": "f72fa109",
   "metadata": {},
   "outputs": [],
   "source": [
    "pd.set_option('display.max_colwidth', None)"
   ]
  },
  {
   "cell_type": "code",
   "execution_count": null,
   "id": "eee9fe70",
   "metadata": {},
   "outputs": [],
   "source": [
    "pd.reset_option('all')"
   ]
  }
 ],
 "metadata": {
  "kernelspec": {
   "display_name": "Python 3 (ipykernel)",
   "language": "python",
   "name": "python3"
  },
  "language_info": {
   "codemirror_mode": {
    "name": "ipython",
    "version": 3
   },
   "file_extension": ".py",
   "mimetype": "text/x-python",
   "name": "python",
   "nbconvert_exporter": "python",
   "pygments_lexer": "ipython3",
   "version": "3.10.8"
  }
 },
 "nbformat": 4,
 "nbformat_minor": 5
}
