{
  "cells": [
    {
      "cell_type": "code",
      "execution_count": null,
      "id": "366c8d93",
      "metadata": {
        "id": "366c8d93"
      },
      "outputs": [],
      "source": [
        "import pandas as pd\n",
        "import random"
      ]
    },
    {
      "cell_type": "code",
      "execution_count": null,
      "id": "1bf08e47",
      "metadata": {
        "id": "1bf08e47"
      },
      "outputs": [],
      "source": [
        "!pip install openpyxl"
      ]
    },
    {
      "cell_type": "code",
      "execution_count": null,
      "id": "39860e11",
      "metadata": {
        "id": "39860e11"
      },
      "outputs": [],
      "source": [
        "path = r'\\employee_marketing1.xlsx'\n",
        "employee_table = pd.read_excel(path)"
      ]
    },
    {
      "cell_type": "code",
      "execution_count": null,
      "id": "09364e29",
      "metadata": {
        "id": "09364e29"
      },
      "outputs": [],
      "source": [
        "employee_table['Titles'] = employee_table['Titles'].astype(str)"
      ]
    },
    {
      "cell_type": "code",
      "execution_count": null,
      "id": "9a8611ad",
      "metadata": {
        "id": "9a8611ad"
      },
      "outputs": [],
      "source": [
        "employee_table.drop(employee_table[employee_table['Company'] == 'uberall'].index, inplace=True)"
      ]
    },
    {
      "cell_type": "code",
      "execution_count": null,
      "id": "c071235d",
      "metadata": {
        "id": "c071235d"
      },
      "outputs": [],
      "source": [
        "employee_table"
      ]
    },
    {
      "cell_type": "code",
      "execution_count": null,
      "id": "521c615c",
      "metadata": {
        "id": "521c615c"
      },
      "outputs": [],
      "source": [
        "employee_table.dtypes"
      ]
    },
    {
      "cell_type": "code",
      "execution_count": null,
      "id": "fa2756ab",
      "metadata": {
        "id": "fa2756ab"
      },
      "outputs": [],
      "source": [
        "# define lists of words related to different departments\n",
        "it_words = ['firmware','head it','user ','apps','ci ','it ','it-','utvecklare','full stack','front end','python','java','computer','device','tech ','sde ','test','qa ','ux ','ui ','information','system','architect','code','implementation','technical','saas','software', 'developer', 'engineer', 'programmer', 'analyst', 'engineering', 'staff engineer', 'it ']\n",
        "\n",
        "data_words = ['business intelligence','bi ', 'da ', 'data', 'data analyst', 'data engineer', 'data science', 'data scientist', 'data architecture', 'warehousing', 'mining', 'modeling', 'visualization', 'data governance', 'data management', 'database administrator', 'database', 'business intelligence', 'etl ']\n",
        "\n",
        "hr_words = ['hr-','empower','job','relationship','grow','human','hiring','rewards','workplace','empathy','relocation','travel','recruit','hr ','people','recruiter', 'talent', 'acquisition', 'human resources', 'compensation', 'benefits', 'training', 'development', 'performance', 'management', 'employee', 'diversity', 'inclusion', 'employee', 'engagement', 'workforce', 'planning', 'employment', 'law', 'compliance', 'culture', 'onboarding', 'offboarding', 'retention', 'succession', 'planning', 'hr analytics', 'hr technology']\n",
        "\n",
        "finance_words = ['contabil','administra','paym','financ','controller','cash','buy','purchas','revenue','growth','equity','tax ','billing','pricing','accountant','finance', 'accounting', 'payroll', 'international payroll', 'global controller', 'director of finance']\n",
        "\n",
        "entrepreneur_words = ['owner','invest','board','venture','president','capital','investor','counsel','founder', 'entrepreneur', 'partner', 'co-founder', 'general partner']\n",
        "\n",
        "chief_words = ['coo ','head of','principal','vp ','cto','cio','cao','csm','cfo','cmo','cro','cpo','ceo']\n",
        "\n",
        "marketing_words = ['outbound','journal','web','editor','sms','artist','writer','photo','communicat','merchan','idea','search','business','brand','marketer','commerce','email','community','consumers','companies','creative','e-commerce','design','strategic','analytics','merchandise','product','marketing', 'advertising', 'promotion', 'strategy', 'international marketing', 'partnerships leader', 'branding', 'digital marketing', 'public relations', 'pr ', 'communications', 'market research', 'content', 'social media', 'event','insights']\n",
        "\n",
        "sales_words =['building ','vendor','trade','opportunities','opportunity','sdr','commercial','sales', 'account','sales development']\n",
        "\n",
        "operations_words = ['meng','retail','automat','chemeng','bim','planner','construction','qualit','solution','logis','ingen','proje','facilit','engineer','mechanic','metal','operat','material','program','scient','batter','manufact','chemi','deliver','cajera','biker','warehouse','city mall at','maintain','project','security','operation','sustain','environ','health','safety','shift','maintenan','technician','quality','process','gpm','fire ','em ','sustainable','program manager','project manager','pmo','operations', 'logistics', 'operations analyst', 'operations manager', 'chief of staff', 'supply chain', 'procurement', 'fulfillment', 'inventory', 'production']\n",
        "\n",
        "legal_words = ['legal', 'lawyer', 'attorney', 'chief legal officer', 'general manager global luxury']\n",
        "\n",
        "customer_service_words = ['service','cs ','customer','client','customer service', 'support', 'client services', 'agent', 'solutions associate', 'client support']\n",
        "\n",
        "executive_words = ['executive']\n",
        "\n",
        "assistant_words = ['assistan','associate','secretary','office','reception']\n",
        "\n",
        "team_lead_words = ['team lead','teams','supervisor','city head', 'sr. ','senior manager']\n",
        "\n",
        "internship_words = ['internship','student','intern','graduate','universit','trainee','school','learning']\n",
        "\n",
        "consultant_words = ['consultant']\n",
        "\n",
        "just_manager = ['manager']\n",
        "\n",
        "\n",
        "# create the function to check for the words and create a new column\n",
        "def assign_department(dataframe):\n",
        "    departments = []\n",
        "    description = dataframe['Titles'].lower()\n",
        "    for word_list, department in zip([it_words, data_words, hr_words, finance_words, entrepreneur_words, chief_words, marketing_words, sales_words, operations_words, legal_words, customer_service_words,executive_words,assistant_words,team_lead_words,internship_words,consultant_words],\n",
        "                                     ['IT', 'Data', 'HR', 'Finance', 'Entrepreneur', 'Chief Team', 'Marketing', 'Sales', 'Operations', 'Legal', 'Customer Service','Executive','Assistant','Team Lead','Internship','Consultant']):\n",
        "        if any(word in description for word in word_list):\n",
        "            departments.append(department)\n",
        "    if len(departments) == 0:\n",
        "        if any(word in description for word in just_manager):\n",
        "            return 'Just Manager'\n",
        "        else:\n",
        "            return 'Other'\n",
        "    else:\n",
        "        return random.choice(departments)\n",
        "\n"
      ]
    },
    {
      "cell_type": "code",
      "execution_count": null,
      "id": "ea290a6f",
      "metadata": {
        "id": "ea290a6f"
      },
      "outputs": [],
      "source": [
        "# apply the function to each row in the dataframe and create the new column 'Department'\n",
        "employee_table['Department'] = employee_table.apply(assign_department, axis=1)"
      ]
    },
    {
      "cell_type": "code",
      "execution_count": null,
      "id": "ab326f62",
      "metadata": {
        "id": "ab326f62"
      },
      "outputs": [],
      "source": [
        "# print the updated dataframe\n",
        "employee_table[employee_table['Department']=='Other']"
      ]
    },
    {
      "cell_type": "code",
      "execution_count": null,
      "id": "b07c9ba0",
      "metadata": {
        "id": "b07c9ba0"
      },
      "outputs": [],
      "source": [
        "employee_table['Department'].value_counts()"
      ]
    },
    {
      "cell_type": "code",
      "execution_count": null,
      "id": "3a68976e",
      "metadata": {
        "id": "3a68976e"
      },
      "outputs": [],
      "source": [
        "import matplotlib.pyplot as plt\n",
        "\n",
        "# Create a bar graph of the 'Department' value counts\n",
        "department_counts = employee_table['Department'].value_counts()\n",
        "plt.bar(department_counts.index, department_counts.values)\n",
        "\n",
        "# Set the chart title and axes labels\n",
        "plt.title('Employee Department Distribution')\n",
        "plt.xlabel('Department')\n",
        "plt.ylabel('Number of Employees')\n",
        "\n",
        "# Enlarge the graph on the x-axis and rotate the x-axis labels\n",
        "plt.gcf().set_size_inches(12, 6)  # Set the figure size\n",
        "plt.xticks(rotation=45)          # Rotate the x-axis labels\n",
        "\n",
        "# Display the chart\n",
        "plt.show()"
      ]
    },
    {
      "cell_type": "code",
      "execution_count": null,
      "id": "05c2eccd",
      "metadata": {
        "id": "05c2eccd"
      },
      "outputs": [],
      "source": [
        "employee_table.to_csv('employee_roles.csv',index=False)"
      ]
    },
    {
      "cell_type": "code",
      "execution_count": null,
      "id": "14788dcd",
      "metadata": {
        "id": "14788dcd"
      },
      "outputs": [],
      "source": [
        "employee_table.to_excel('employee_roles.xlsx',index=False)"
      ]
    },
    {
      "cell_type": "code",
      "execution_count": null,
      "id": "fd617858",
      "metadata": {
        "id": "fd617858"
      },
      "outputs": [],
      "source": [
        "pd.set_option('display.max_rows', None)"
      ]
    },
    {
      "cell_type": "code",
      "execution_count": null,
      "id": "f72fa109",
      "metadata": {
        "id": "f72fa109"
      },
      "outputs": [],
      "source": [
        "pd.set_option('display.max_colwidth', None)"
      ]
    },
    {
      "cell_type": "code",
      "execution_count": null,
      "id": "eee9fe70",
      "metadata": {
        "id": "eee9fe70"
      },
      "outputs": [],
      "source": [
        "pd.reset_option('all')"
      ]
    }
  ],
  "metadata": {
    "kernelspec": {
      "display_name": "Python 3 (ipykernel)",
      "language": "python",
      "name": "python3"
    },
    "language_info": {
      "codemirror_mode": {
        "name": "ipython",
        "version": 3
      },
      "file_extension": ".py",
      "mimetype": "text/x-python",
      "name": "python",
      "nbconvert_exporter": "python",
      "pygments_lexer": "ipython3",
      "version": "3.10.8"
    },
    "colab": {
      "provenance": []
    }
  },
  "nbformat": 4,
  "nbformat_minor": 5
}